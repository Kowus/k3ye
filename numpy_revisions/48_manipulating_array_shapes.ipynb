{
  "nbformat": 4,
  "nbformat_minor": 0,
  "metadata": {
    "colab": {
      "name": "48_manipulating_array_shapes.ipynb",
      "provenance": [],
      "authorship_tag": "ABX9TyNl1f1RaA2X6AD8O/RKtjiJ",
      "include_colab_link": true
    },
    "kernelspec": {
      "name": "python3",
      "display_name": "Python 3"
    }
  },
  "cells": [
    {
      "cell_type": "markdown",
      "metadata": {
        "id": "view-in-github",
        "colab_type": "text"
      },
      "source": [
        "<a href=\"https://colab.research.google.com/github/Kowus/k3ye/blob/master/numpy_revisions/48_manipulating_array_shapes.ipynb\" target=\"_parent\"><img src=\"https://colab.research.google.com/assets/colab-badge.svg\" alt=\"Open In Colab\"/></a>"
      ]
    },
    {
      "cell_type": "code",
      "metadata": {
        "id": "rG8ycrF_0sXC",
        "colab_type": "code",
        "colab": {
          "base_uri": "https://localhost:8080/",
          "height": 68
        },
        "outputId": "b611355c-3ae6-402b-b73c-a5a621c0f019"
      },
      "source": [
        "import numpy as np\n",
        "x = np.arange(9).reshape(3,3)\n",
        "print(x)"
      ],
      "execution_count": 15,
      "outputs": [
        {
          "output_type": "stream",
          "text": [
            "[[0 1 2]\n",
            " [3 4 5]\n",
            " [6 7 8]]\n"
          ],
          "name": "stdout"
        }
      ]
    },
    {
      "cell_type": "code",
      "metadata": {
        "id": "xxkdn2-z1KQ9",
        "colab_type": "code",
        "colab": {
          "base_uri": "https://localhost:8080/",
          "height": 34
        },
        "outputId": "246d0fa8-bd54-4f29-93c4-38e8b69a93ad"
      },
      "source": [
        "ravelled_array = x.ravel()\n",
        "print(ravelled_array)"
      ],
      "execution_count": 16,
      "outputs": [
        {
          "output_type": "stream",
          "text": [
            "[0 1 2 3 4 5 6 7 8]\n"
          ],
          "name": "stdout"
        }
      ]
    },
    {
      "cell_type": "code",
      "metadata": {
        "id": "O7npM6u31Q-O",
        "colab_type": "code",
        "colab": {
          "base_uri": "https://localhost:8080/",
          "height": 85
        },
        "outputId": "d39bb390-fd94-480d-f844-51beecbb8b9f"
      },
      "source": [
        "flattened_array = x.flatten()\n",
        "print(flattened_array)\n",
        "# How different is flatten from ravel?\n",
        "# flatten creates a copy and requires\n",
        "# additional memory.\n",
        "# ravel returns a view of the original array\n",
        "# if I modify anything in a ravelled array,\n",
        "# it gets modified in the original copy\n",
        "# eg.\n",
        "# ravelled_array[3] = 789\n",
        "flattened_array[3] = 789\n",
        "print(flattened_array, x)"
      ],
      "execution_count": 18,
      "outputs": [
        {
          "output_type": "stream",
          "text": [
            "[0 1 2 3 4 5 6 7 8]\n",
            "[  0   1   2 789   4   5   6   7   8] [[0 1 2]\n",
            " [3 4 5]\n",
            " [6 7 8]]\n"
          ],
          "name": "stdout"
        }
      ]
    },
    {
      "cell_type": "code",
      "metadata": {
        "id": "gDU-XaU94Grv",
        "colab_type": "code",
        "colab": {
          "base_uri": "https://localhost:8080/",
          "height": 68
        },
        "outputId": "ac261c4f-0d47-4216-fa73-f8c222a81d7a"
      },
      "source": [
        "y = np.arange(9)\n",
        "y.shape=[3,3]\n",
        "print(y.T)"
      ],
      "execution_count": 19,
      "outputs": [
        {
          "output_type": "stream",
          "text": [
            "[[0 3 6]\n",
            " [1 4 7]\n",
            " [2 5 8]]\n"
          ],
          "name": "stdout"
        }
      ]
    },
    {
      "cell_type": "code",
      "metadata": {
        "id": "BQvpNIwD4YDj",
        "colab_type": "code",
        "colab": {
          "base_uri": "https://localhost:8080/",
          "height": 119
        },
        "outputId": "e178d94d-a165-48c9-be2b-a6ed31dcc77a"
      },
      "source": [
        "print(np.resize(y, (6,6)))"
      ],
      "execution_count": 21,
      "outputs": [
        {
          "output_type": "stream",
          "text": [
            "[[0 1 2 3 4 5]\n",
            " [6 7 8 0 1 2]\n",
            " [3 4 5 6 7 8]\n",
            " [0 1 2 3 4 5]\n",
            " [6 7 8 0 1 2]\n",
            " [3 4 5 6 7 8]]\n"
          ],
          "name": "stdout"
        }
      ]
    },
    {
      "cell_type": "code",
      "metadata": {
        "id": "7zdr8QQe56gp",
        "colab_type": "code",
        "colab": {
          "base_uri": "https://localhost:8080/",
          "height": 51
        },
        "outputId": "663d4f8b-d21b-40e0-ef86-aa4d92cbc61a"
      },
      "source": [
        "np.zeros((2,3), dtype=int)"
      ],
      "execution_count": 26,
      "outputs": [
        {
          "output_type": "execute_result",
          "data": {
            "text/plain": [
              "array([[0, 0, 0],\n",
              "       [0, 0, 0]])"
            ]
          },
          "metadata": {
            "tags": []
          },
          "execution_count": 26
        }
      ]
    },
    {
      "cell_type": "code",
      "metadata": {
        "id": "5sOF1xez6XF6",
        "colab_type": "code",
        "colab": {
          "base_uri": "https://localhost:8080/",
          "height": 68
        },
        "outputId": "af5c0292-799b-4a48-9b66-de72b730bdcd"
      },
      "source": [
        "np.eye(3, dtype=int)"
      ],
      "execution_count": 31,
      "outputs": [
        {
          "output_type": "execute_result",
          "data": {
            "text/plain": [
              "array([[1, 0, 0],\n",
              "       [0, 1, 0],\n",
              "       [0, 0, 1]])"
            ]
          },
          "metadata": {
            "tags": []
          },
          "execution_count": 31
        }
      ]
    },
    {
      "cell_type": "code",
      "metadata": {
        "id": "oo8YkyiX6iuX",
        "colab_type": "code",
        "colab": {
          "base_uri": "https://localhost:8080/",
          "height": 85
        },
        "outputId": "49d9da1e-7f3b-43cf-8c07-15c84dfe3963"
      },
      "source": [
        "np.random.rand(4,4)"
      ],
      "execution_count": 32,
      "outputs": [
        {
          "output_type": "execute_result",
          "data": {
            "text/plain": [
              "array([[0.28979268, 0.50909016, 0.75477422, 0.96298035],\n",
              "       [0.89854616, 0.46938006, 0.55059873, 0.00488756],\n",
              "       [0.93356785, 0.97328818, 0.2188116 , 0.73655154],\n",
              "       [0.05536121, 0.18246955, 0.29395829, 0.40240104]])"
            ]
          },
          "metadata": {
            "tags": []
          },
          "execution_count": 32
        }
      ]
    }
  ]
}