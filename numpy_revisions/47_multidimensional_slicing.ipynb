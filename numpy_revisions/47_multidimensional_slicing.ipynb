{
  "nbformat": 4,
  "nbformat_minor": 0,
  "metadata": {
    "colab": {
      "name": "47_multidimensional_slicing.ipynb",
      "provenance": [],
      "collapsed_sections": [],
      "authorship_tag": "ABX9TyNU9mEKntdjqxRd7KKp662r",
      "include_colab_link": true
    },
    "kernelspec": {
      "name": "python3",
      "display_name": "Python 3"
    }
  },
  "cells": [
    {
      "cell_type": "markdown",
      "metadata": {
        "id": "view-in-github",
        "colab_type": "text"
      },
      "source": [
        "<a href=\"https://colab.research.google.com/github/Kowus/k3ye/blob/master/numpy_revisions/47_multidimensional_slicing.ipynb\" target=\"_parent\"><img src=\"https://colab.research.google.com/assets/colab-badge.svg\" alt=\"Open In Colab\"/></a>"
      ]
    },
    {
      "cell_type": "code",
      "metadata": {
        "id": "OHu991-BohCp",
        "colab_type": "code",
        "colab": {
          "base_uri": "https://localhost:8080/",
          "height": 153
        },
        "outputId": "9fafbf0f-2d6b-495a-fbe1-c7cebc25a893"
      },
      "source": [
        "import numpy as np\n",
        "x = np.arange(18).reshape(3, 2, 3)\n",
        "print (x)"
      ],
      "execution_count": 3,
      "outputs": [
        {
          "output_type": "stream",
          "text": [
            "[[[ 0  1  2]\n",
            "  [ 3  4  5]]\n",
            "\n",
            " [[ 6  7  8]\n",
            "  [ 9 10 11]]\n",
            "\n",
            " [[12 13 14]\n",
            "  [15 16 17]]]\n"
          ],
          "name": "stdout"
        }
      ]
    },
    {
      "cell_type": "code",
      "metadata": {
        "id": "YIL-qk6DwEob",
        "colab_type": "code",
        "colab": {
          "base_uri": "https://localhost:8080/",
          "height": 51
        },
        "outputId": "29534d65-5e0c-4438-dd8a-50900542255b"
      },
      "source": [
        "# x[1, 0:, 0:]\n",
        "# x[1, :, :]\n",
        "# x[1, ...]\n",
        "x[1, :2, :3:2]"
      ],
      "execution_count": 17,
      "outputs": [
        {
          "output_type": "execute_result",
          "data": {
            "text/plain": [
              "array([[ 6,  8],\n",
              "       [ 9, 11]])"
            ]
          },
          "metadata": {
            "tags": []
          },
          "execution_count": 17
        }
      ]
    },
    {
      "cell_type": "code",
      "metadata": {
        "id": "6d6yl30VzCHu",
        "colab_type": "code",
        "colab": {
          "base_uri": "https://localhost:8080/",
          "height": 34
        },
        "outputId": "b0bec2bf-7f01-4c79-adcc-a7f34f0370c7"
      },
      "source": [
        "comparison_operation = x > 5\n",
        "# print(comparison_operation)\n",
        "# x[comparison_operation]\n",
        "x[x>5]"
      ],
      "execution_count": 21,
      "outputs": [
        {
          "output_type": "execute_result",
          "data": {
            "text/plain": [
              "array([ 6,  7,  8,  9, 10, 11, 12, 13, 14, 15, 16, 17])"
            ]
          },
          "metadata": {
            "tags": []
          },
          "execution_count": 21
        }
      ]
    },
    {
      "cell_type": "code",
      "metadata": {
        "id": "JBh0-ifIzcO4",
        "colab_type": "code",
        "colab": {
          "base_uri": "https://localhost:8080/",
          "height": 34
        },
        "outputId": "54129ba5-96b5-49e2-e9c5-e05bee951f2a"
      },
      "source": [
        "# x.max()\n",
        "x.min()"
      ],
      "execution_count": 23,
      "outputs": [
        {
          "output_type": "execute_result",
          "data": {
            "text/plain": [
              "0"
            ]
          },
          "metadata": {
            "tags": []
          },
          "execution_count": 23
        }
      ]
    }
  ]
}