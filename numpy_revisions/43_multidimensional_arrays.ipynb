{
 "nbformat": 4,
 "nbformat_minor": 2,
 "metadata": {
  "language_info": {
   "name": "python",
   "codemirror_mode": {
    "name": "ipython",
    "version": 3
   },
   "version": "3.6.5-final"
  },
  "orig_nbformat": 2,
  "file_extension": ".py",
  "mimetype": "text/x-python",
  "name": "python",
  "npconvert_exporter": "python",
  "pygments_lexer": "ipython3",
  "version": 3,
  "kernelspec": {
   "name": "python36564bitbaseconda657fbfe306944ae0bdd149c470d2caf0",
   "display_name": "Python 3.6.5 64-bit ('base': conda)"
  }
 },
 "cells": [
  {
   "cell_type": "code",
   "execution_count": 17,
   "metadata": {},
   "outputs": [
    {
     "name": "stdout",
     "output_type": "stream",
     "text": "[[0 1 2]\n [3 4 5]\n [6 7 8]]\n(3, 3)\n"
    },
    {
     "data": {
      "text/plain": "5"
     },
     "execution_count": 17,
     "metadata": {},
     "output_type": "execute_result"
    }
   ],
   "source": [
    "# an N dimensional array is defined by the shape and the item it's composed of\n",
    "# the advantage of all items being the same data type means they all have\n",
    "# the same memory size making it easier to compute array size\n",
    "import numpy as np\n",
    "x = np.arange(3)\n",
    "y = np.arange(3, 6)\n",
    "z = np.arange(6, 9)\n",
    "\n",
    "multi_array = np.array([x,y,z], dtype=np.int16)\n",
    "print(multi_array)\n",
    "print(multi_array.shape)\n",
    "multi_array[1, 2]"
   ]
  },
  {
   "cell_type": "code",
   "execution_count": 18,
   "metadata": {},
   "outputs": [
    {
     "name": "stdout",
     "output_type": "stream",
     "text": "int16\n"
    }
   ],
   "source": [
    "print(multi_array.dtype)"
   ]
  },
  {
   "cell_type": "code",
   "execution_count": null,
   "metadata": {},
   "outputs": [],
   "source": []
  }
 ]
}